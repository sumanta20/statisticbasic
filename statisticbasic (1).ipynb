{
  "nbformat": 4,
  "nbformat_minor": 0,
  "metadata": {
    "colab": {
      "provenance": []
    },
    "kernelspec": {
      "name": "python3",
      "display_name": "Python 3"
    },
    "language_info": {
      "name": "python"
    }
  },
  "cells": [
    {
      "cell_type": "code",
      "execution_count": null,
      "metadata": {
        "id": "Vkzw61538DWF"
      },
      "outputs": [],
      "source": []
    },
    {
      "cell_type": "markdown",
      "source": [
        "1. What is statistics, and why is it important?\n",
        "Statistics is the science of collecting, organizing, analyzing, and interpreting data. It's important because it helps in making informed decisions based on data rather than guesswork.\n",
        "\n",
        "2. What are the two main types of statistics?\n",
        "\n",
        "Descriptive Statistics\n",
        "\n",
        "Inferential Statistics\n",
        "\n",
        "\n",
        "3. What are descriptive statistics?\n",
        "Descriptive statistics summarize and describe the main features of a dataset using measures like mean, median, mode, and standard deviation.\n",
        "\n",
        "4. What is inferential statistics?\n",
        "Inferential statistics use a sample of data to make generalizations or predictions about a larger population.\n",
        "\n",
        "5. What is sampling in statistics?\n",
        "Sampling is the process of selecting a subset of individuals from a population to estimate characteristics of the whole group.\n",
        "\n",
        "6. What are the different types of sampling methods?\n",
        "\n",
        "Random Sampling\n",
        "\n",
        "Stratified Sampling\n",
        "\n",
        "Cluster Sampling\n",
        "\n",
        "Systematic Sampling\n",
        "\n",
        "Convenience Sampling\n",
        "\n",
        "\n",
        "7. What is the difference between random and non-random sampling?\n",
        "\n",
        "Random Sampling: Every individual has an equal chance of being selected.\n",
        "\n",
        "Non-random Sampling: Some individuals have a higher chance than others, which may introduce bias.\n",
        "\n",
        "\n",
        "8. Define and give examples of qualitative and quantitative data.\n",
        "\n",
        "Qualitative (Categorical) Data: Descriptive data (e.g., colors, names).\n",
        "\n",
        "Quantitative (Numerical) Data: Countable or measurable data (e.g., height, weight).\n",
        "\n",
        "\n",
        "9. What are the different types of data in statistics?\n",
        "\n",
        "Nominal\n",
        "\n",
        "Ordinal\n",
        "\n",
        "Interval\n",
        "\n",
        "Ratio\n",
        "\n",
        "\n",
        "10. Explain nominal, ordinal, interval, and ratio levels of measurement.\n",
        "\n",
        "Nominal: Categories without order (e.g., gender, colors)\n",
        "\n",
        "Ordinal: Categories with order (e.g., rankings)\n",
        "\n",
        "Interval: Numeric data with equal intervals, no true zero (e.g., temperature in °C)\n",
        "\n",
        "Ratio: Numeric data with a true zero (e.g., height, weight)\n",
        "\n",
        "\n",
        "11. What is the measure of central tendency?\n",
        "It indicates the center or typical value in a dataset and includes mean, median, and mode.\n",
        "\n",
        "12. Define mean, median, and mode.\n",
        "\n",
        "Mean: Average\n",
        "\n",
        "Median: Middle value when data is ordered\n",
        "\n",
        "Mode: Most frequent value\n",
        "\n",
        "\n",
        "13. What is the significance of the measure of central tendency?\n",
        "It helps summarize a large dataset with a single representative value, aiding comparison and understanding.\n",
        "\n",
        "14. What is variance, and how is it calculated?\n",
        "Variance measures how spread out the data is. It's the average of the squared differences from the mean.\n",
        "\n",
        "15. What is standard deviation, and why is it important?\n",
        "Standard deviation is the square root of variance. It shows how much the data deviates from the mean, helping understand data consistency.\n",
        "\n",
        "16. Define and explain the term range in statistics.\n",
        "Range is the difference between the highest and lowest values in a dataset. It gives a quick sense of data spread.\n",
        "\n",
        "17. What is the difference between variance and standard deviation?\n",
        "Variance is the squared measure of dispersion, while standard deviation is its square root and more interpretable in real units.\n",
        "\n",
        "18. What is skewness in a dataset?\n",
        "Skewness measures the asymmetry of the data distribution.\n",
        "\n",
        "19. What does it mean if a dataset is positively or negatively skewed?\n",
        "\n",
        "Positively skewed: Tail on the right (more high values)\n",
        "\n",
        "Negatively skewed: Tail on the left (more low values)\n",
        "\n",
        "\n",
        "20. Define and explain kurtosis.\n",
        "Kurtosis measures the \"tailedness\" of a distribution—whether data have heavy or light tails compared to a normal distribution.\n",
        "\n",
        "21. What is the purpose of covariance?\n",
        "Covariance indicates the direction of a linear relationship between two variables (positive or negative).\n",
        "\n",
        "22. What does correlation measure in statistics?\n",
        "Correlation measures the strength and direction of the relationship between two variables.\n",
        "23. What is the difference between covariance and correlation?\n",
        "\n",
        "Covariance: Tells direction, scale-dependent\n",
        "\n",
        "Correlation: Standardized version of covariance; always between -1 and 1\n",
        "\n",
        "\n",
        "24. What are some real-world applications of statistics?\n",
        "\n",
        "Healthcare (e.g., drug effectiveness)\n",
        "\n",
        "Business (e.g., market research)\n",
        "\n",
        "Government (e.g., census data)\n",
        "\n",
        "Education (e.g., student performance analysis)\n",
        "\n",
        "Sports (e.g., player performance metrics)\n"
      ],
      "metadata": {
        "id": "SlTYQgIS-F7X"
      }
    },
    {
      "cell_type": "code",
      "source": [
        "1.from statistics import mean, median, mode\n",
        "\n",
        "data = [4, 2, 5, 2, 3]\n",
        "print(f\"Mean: {mean(data)}\")\n",
        "print(f\"Median: {median(data)}\")\n",
        "print(f\"Mode: {mode(data)}\")"
      ],
      "metadata": {
        "id": "lmYqiZj5-UVQ"
      },
      "execution_count": null,
      "outputs": []
    },
    {
      "cell_type": "code",
      "source": [
        "2.import statistics\n",
        "\n",
        "data = [4, 2, 5, 2, 3]\n",
        "variance = statistics.variance(data)  # Sample variance\n",
        "std_dev = statistics.stdev(data)     # Sample standard deviation\n",
        "\n",
        "print(f\"Variance: {variance}\")\n",
        "print(f\"Standard Deviation: {std_dev}\")"
      ],
      "metadata": {
        "id": "fHlv-drk-epN"
      },
      "execution_count": null,
      "outputs": []
    },
    {
      "cell_type": "code",
      "source": [
        "Create a dataset and classify it into nominal, ordinal, interval, and ratio types.Dataset (Students): | Name  | Grade | Test Score | Height (cm) | |-------|-------|------------|-------------| | Alice | A     | 85         | 165         | | Bob   | B     | 70         | 170         | | Carol | A     | 90         | 160         |Classification:Nominal: Name (categories without order, e.g., Alice, Bob).Ordinal: Grade (ordered categories, e.g., A > B, but intervals not equal).Interval: Test Score (equal intervals, no true zero, e.g., 0 doesn’t mean “no score”).Ratio: Height (equal intervals, true zero, e.g., 0 cm means no height)."
      ],
      "metadata": {
        "id": "6Bp-vjgp-n3I"
      },
      "execution_count": null,
      "outputs": []
    },
    {
      "cell_type": "code",
      "source": [
        "4.import random\n",
        "import pandas as pd\n",
        "\n",
        "# Dataset: Students with grades\n",
        "data = pd.DataFrame({\n",
        "    'Name': ['Alice', 'Bob', 'Carol', 'David', 'Eve', 'Frank', 'Grace', 'Heidi'],\n",
        "    'Grade': ['A', 'B', 'A', 'C', 'B', 'A', 'C', 'B']\n",
        "})"
      ],
      "metadata": {
        "id": "DPoUquH--kAr"
      },
      "execution_count": null,
      "outputs": []
    },
    {
      "cell_type": "code",
      "source": [
        "5.def calculate_range(data):\n",
        "    return max(data) - min(data)\n",
        "\n",
        "data = [4, 2, 5, 2, 3]\n",
        "print(f\"Range: {calculate_range(data)}\")"
      ],
      "metadata": {
        "id": "s20RDYk_-o-q"
      },
      "execution_count": null,
      "outputs": []
    },
    {
      "cell_type": "code",
      "source": [
        "6.import matplotlib.pyplot as plt\n",
        "import seaborn as sns\n",
        "\n",
        "data = [50, 55, 60, 65, 70, 70, 75, 80, 80, 85]\n",
        "sns.histplot(data, bins=5, kde=True)\n",
        "plt.title(\"Histogram of Test Scores\")\n",
        "plt.xlabel(\"Scores\")\n",
        "plt.ylabel(\"Frequency\")\n",
        "plt.show()"
      ],
      "metadata": {
        "id": "K9M3iQyJ-yIM"
      },
      "execution_count": null,
      "outputs": []
    },
    {
      "cell_type": "code",
      "source": [
        "7.from scipy.stats import skew, kurtosis\n",
        "\n",
        "data = [50, 55, 60, 65, 70, 70, 75, 80, 80, 85]\n",
        "print(f\"Skewness: {skew(data)}\")\n",
        "print(f\"Kurtosis: {kurtosis(data, fisher=True)}\")  # Fisher’s kurtosis (normal = 0)"
      ],
      "metadata": {
        "id": "wlrt73_j-0fY"
      },
      "execution_count": null,
      "outputs": []
    },
    {
      "cell_type": "code",
      "source": [
        "8.import numpy as np\n",
        "import matplotlib.pyplot as plt\n",
        "import seaborn as sns\n",
        "\n",
        "# Positive skew (exponential-like)\n",
        "pos_skew = np.random.exponential(scale=2, size=1000)\n",
        "# Negative skew (mirrored exponential)\n",
        "neg_skew = -np.random.exponential(scale=2, size=1000)\n",
        "\n",
        "# Plot\n",
        "plt.figure(figsize=(12, 5))\n",
        "plt.subplot(1, 2, 1)\n",
        "sns.histplot(pos_skew, kde=True)\n",
        "plt.title(\"Positive Skewness\")\n",
        "plt.subplot(1, 2, 2)\n",
        "sns.histplot(neg_skew, kde=True)\n",
        "plt.title(\"Negative Skewness\")\n",
        "plt.tight_layout()\n",
        "plt.show()"
      ],
      "metadata": {
        "id": "Vaz3OMgN-3F6"
      },
      "execution_count": null,
      "outputs": []
    },
    {
      "cell_type": "code",
      "source": [
        "9.import numpy as np\n",
        "\n",
        "x = [4, 2, 5, 2, 3]\n",
        "y = [8, 6, 9, 5, 7]\n",
        "covariance = np.cov(x, y, bias=False)[0, 1]\n",
        "print(f\"Covariance: {covariance}\")"
      ],
      "metadata": {
        "id": "w608s06B_AiS"
      },
      "execution_count": null,
      "outputs": []
    },
    {
      "cell_type": "code",
      "source": [
        "10.import numpy as np\n",
        "\n",
        "x = [4, 2, 5, 2, 3]\n",
        "y = [8, 6, 9, 5, 7]\n",
        "correlation = np.corrcoef(x, y)[0, 1]\n",
        "print(f\"Correlation Coefficient: {correlation}\")"
      ],
      "metadata": {
        "id": "eXipQDVT_C3j"
      },
      "execution_count": null,
      "outputs": []
    },
    {
      "cell_type": "code",
      "source": [
        "11.import matplotlib.pyplot as plt\n",
        "\n",
        "x = [4, 2, 5, 2, 3]\n",
        "y = [8, 6, 9, 5, 7]\n",
        "plt.scatter(x, y)\n",
        "plt.title(\"Scatter Plot of X vs Y\")\n",
        "plt.xlabel(\"X\")\n",
        "plt.ylabel(\"Y\")\n",
        "plt.show()"
      ],
      "metadata": {
        "id": "4_nO3Q1l_Eqm"
      },
      "execution_count": null,
      "outputs": []
    },
    {
      "cell_type": "code",
      "source": [
        "12.import random\n",
        "import pandas as pd\n",
        "\n",
        "data = pd.DataFrame({'Value': [10, 20, 30, 40, 50, 60, 70, 80]})\n",
        "\n",
        "# Simple Random Sampling\n",
        "random_sample = data.sample(n=4, random_state=1)\n",
        "print(\"Random Sample:\\n\", random_sample)\n",
        "\n",
        "# Systematic Sampling\n",
        "k = len(data) // 4  # Step size\n",
        "start = random.randint(0, k-1)\n",
        "systematic_sample = data.iloc[start::k].head(4)\n",
        "print(\"\\nSystematic Sample:\\n\", systematic_sample)"
      ],
      "metadata": {
        "id": "ySTiDq5Y_GMw"
      },
      "execution_count": null,
      "outputs": []
    },
    {
      "cell_type": "code",
      "source": [
        "13.import pandas as pd\n",
        "from statistics import mode\n",
        "\n",
        "data = pd.DataFrame({\n",
        "    'Lower': [0, 10, 20],\n",
        "    'Upper': [10, 20, 30],\n",
        "    'Freq': [3, 5, 2]\n",
        "})\n",
        "\n",
        "# Mean\n",
        "data['Mid'] = (data['Lower'] + data['Upper']) / 2\n",
        "mean = sum(data['Freq'] * data['Mid']) / sum(data['Freq'])\n",
        "\n",
        "# Median\n",
        "N = sum(data['Freq'])\n",
        "cum_freq = data['Freq'].cumsum()\n",
        "median_class = data[cum_freq >= N/2].iloc[0]\n",
        "L, f, CF = median_class['Lower'], median_class['Freq'], cum_freq.shift(1).fillna(0)[1]\n",
        "median = L + ((N/2 - CF) / f) * (median_class['Upper'] - L)\n",
        "\n",
        "# Mode\n",
        "mode_class = data.loc[data['Freq'].idxmax()]\n",
        "L, f_m, f_m1, f_m2 = mode_class['Lower'], mode_class['Freq'], data['Freq'].shift(1).fillna(0)[1], data['Freq'].shift(-1).fillna(0)[2]\n",
        "mode_val = L + ((f_m - f_m1) / ((f_m - f_m1) + (f_m - f_m2))) * (mode_class['Upper'] - L)\n",
        "\n",
        "print(f\"Mean: {mean}\")\n",
        "print(f\"Median: {median}\")\n",
        "print(f\"Mode: {mode_val}\")"
      ],
      "metadata": {
        "id": "ZMlvt83N_PLp"
      },
      "execution_count": null,
      "outputs": []
    },
    {
      "cell_type": "code",
      "source": [
        "14.import numpy as np\n",
        "from statistics import mean, median, mode, variance, stdev\n",
        "\n",
        "# Simulate data\n",
        "np.random.seed(1)\n",
        "data = np.random.normal(loc=50, scale=10, size=100)\n",
        "\n",
        "# Central Tendency\n",
        "print(f\"Mean: {mean(data):.2f}\")\n",
        "print(f\"Median: {median(data):.2f}\")\n",
        "print(f\"Mode: {mode(np.round(data)):.2f}\")  # Rounded for mode\n",
        "\n",
        "# Dispersion\n",
        "print(f\"Variance: {variance(data):.2f}\")\n",
        "print(f\"Standard Deviation: {stdev(data):.2f}\")\n",
        "print(f\"Range: {max(data) - min(data):.2f}\")"
      ],
      "metadata": {
        "id": "CsL9sRbW_RfL"
      },
      "execution_count": null,
      "outputs": []
    },
    {
      "cell_type": "code",
      "source": [
        "15.import pandas as pd\n",
        "\n",
        "# Sample dataset\n",
        "data = pd.DataFrame({\n",
        "    'Scores': [85, 90, 78, 92, 88, 76, 95, 89]\n",
        "})\n",
        "\n",
        "# Descriptive statistics\n",
        "summary = data.describe()\n",
        "print(summary)"
      ],
      "metadata": {
        "id": "GE5a-9Xw_TJC"
      },
      "execution_count": null,
      "outputs": []
    },
    {
      "cell_type": "code",
      "source": [
        "16.import seaborn as sns\n",
        "import matplotlib.pyplot as plt\n",
        "\n",
        "# Sample dataset\n",
        "data = [85, 90, 78, 92, 88, 76, 95, 89, 50, 120]  # Added outliers\n",
        "\n",
        "# Boxplot\n",
        "sns.boxplot(data=data)\n",
        "plt.title(\"Boxplot of Scores\")\n",
        "plt.ylabel(\"Scores\")\n",
        "plt.show()"
      ],
      "metadata": {
        "id": "VnHPculr_U-c"
      },
      "execution_count": null,
      "outputs": []
    },
    {
      "cell_type": "code",
      "source": [
        "17.import numpy as np\n",
        "\n",
        "data = [85, 90, 78, 92, 88, 76, 95, 89]\n",
        "q3, q1 = np.percentile(data, [75, 25])\n",
        "iqr = q3 - q1\n",
        "print(f\"IQR: {iqr}\")"
      ],
      "metadata": {
        "id": "1fFrXNQa_W-c"
      },
      "execution_count": null,
      "outputs": []
    },
    {
      "cell_type": "code",
      "source": [
        "18.import numpy as np\n",
        "\n",
        "data = [85, 90, 78, 92, 88, 76, 95, 89]\n",
        "mean = np.mean(data)\n",
        "std = np.std(data)\n",
        "z_scores = [(x - mean) / std for x in data]\n",
        "print(f\"Z-scores: {z_scores}\")"
      ],
      "metadata": {
        "id": "vSjNEKdZ_Y_V"
      },
      "execution_count": null,
      "outputs": []
    },
    {
      "cell_type": "code",
      "source": [
        "19.import numpy as np\n",
        "\n",
        "data1 = [85, 90, 78, 92, 88]  # Less spread\n",
        "data2 = [50, 100, 60, 95, 75]  # More spread\n",
        "\n",
        "std1 = np.std(data1, ddof=1)\n",
        "std2 = np.std(data2, ddof=1)\n",
        "\n",
        "print(f\"Standard Deviation (Data1): {std1:.2f}\")\n",
        "print(f\"Standard Deviation (Data2): {std2:.2f}\")\n",
        "print(\"Comparison: Data2 is more spread out than Data1.\")"
      ],
      "metadata": {
        "id": "IXGm6M6K_bKQ"
      },
      "execution_count": null,
      "outputs": []
    },
    {
      "cell_type": "code",
      "source": [
        "20.import pandas as pd\n",
        "import seaborn as sns\n",
        "import matplotlib.pyplot as plt\n",
        "\n",
        "# Sample dataset\n",
        "data = pd.DataFrame({\n",
        "    'X': [4, 2, 5, 2, 3],\n",
        "    'Y': [8, 6, 9, 5, 7],\n",
        "    'Z': [1, 3, 2, 4, 3]\n",
        "})\n",
        "\n",
        "# Covariance matrix\n",
        "cov_matrix = data.cov()\n",
        "\n",
        "# Heatmap\n",
        "sns.heatmap(cov_matrix, annot=True, cmap='coolwarm')\n",
        "plt.title(\"Covariance Matrix Heatmap\")\n",
        "plt.show()"
      ],
      "metadata": {
        "id": "iX-gKH03_eFw"
      },
      "execution_count": null,
      "outputs": []
    },
    {
      "cell_type": "code",
      "source": [
        "21.import pandas as pd\n",
        "import seaborn as sns\n",
        "import matplotlib.pyplot as plt\n",
        "\n",
        "# Sample dataset\n",
        "data = pd.DataFrame({\n",
        "    'X': [4, 2, 5, 2, 3],\n",
        "    'Y': [8, 6, 9, 5, 7],\n",
        "    'Z': [1, 3, 2, 4, 3]\n",
        "})\n",
        "\n",
        "# Correlation matrix\n",
        "corr_matrix = data.corr()\n",
        "\n",
        "# Heatmap\n",
        "sns.heatmap(corr_matrix, annot=True, cmap='coolwarm')\n",
        "plt.title(\"Correlation Matrix Heatmap\")\n",
        "plt.show()"
      ],
      "metadata": {
        "id": "3Rlied07_gTp"
      },
      "execution_count": null,
      "outputs": []
    },
    {
      "cell_type": "code",
      "source": [
        "22.import numpy as np\n",
        "\n",
        "# Generate dataset\n",
        "np.random.seed(1)\n",
        "data = np.random.normal(loc=50, scale=10, size=10)\n",
        "print(f\"Dataset: {data}\")\n",
        "\n",
        "# Variance and Standard Deviation\n",
        "variance = np.var(data, ddof=1)  # Sample variance\n",
        "std_dev = np.std(data, ddof=1)   # Sample standard deviation\n",
        "\n",
        "print(f\"Variance: {variance:.2f}\")\n",
        "print(f\"Standard Deviation: {std_dev:.2f}\")"
      ],
      "metadata": {
        "id": "AUMov9ZY_jtX"
      },
      "execution_count": null,
      "outputs": []
    },
    {
      "cell_type": "code",
      "source": [
        "23.import seaborn as sns\n",
        "import matplotlib.pyplot as plt\n",
        "from scipy.stats import skew, kurtosis\n",
        "\n",
        "# Sample dataset\n",
        "data = [50, 55, 60, 65, 70, 70, 75, 80, 80, 85]\n",
        "\n",
        "# Calculate skewness and kurtosis\n",
        "skew_val = skew(data)\n",
        "kurt_val = kurtosis(data, fisher=True)\n",
        "\n",
        "# Plot histogram with KDE\n",
        "sns.histplot(data, kde=True)\n",
        "plt.title(f\"Histogram (Skewness: {skew_val:.2f}, Kurtosis: {kurt_val:.2f})\")\n",
        "plt.xlabel(\"Value\")\n",
        "plt.ylabel(\"Frequency\")\n",
        "plt.show()"
      ],
      "metadata": {
        "id": "fx1OHvIs_lm6"
      },
      "execution_count": null,
      "outputs": []
    },
    {
      "cell_type": "code",
      "source": [
        "24.import pandas as pd\n",
        "from scipy.stats import pearsonr, spearmanr\n",
        "\n",
        "# Sample dataset\n",
        "data = pd.DataFrame({\n",
        "    'X': [4, 2, 5, 2, 3],\n",
        "    'Y': [8, 6, 9, 5, 7]\n",
        "})\n",
        "\n",
        "# Pearson and Spearman correlations\n",
        "pearson_corr, _ = pearsonr(data['X'], data['Y'])\n",
        "spearman_corr, _ = spearmanr(data['X'], data['Y'])\n",
        "\n",
        "print(f\"Pearson Correlation: {pearson_corr:.2f}\")\n",
        "print(f\"Spearman Correlation: {spearman_corr:.2f}\")"
      ],
      "metadata": {
        "id": "FuFn7OuU_oLD"
      },
      "execution_count": null,
      "outputs": []
    }
  ]
}